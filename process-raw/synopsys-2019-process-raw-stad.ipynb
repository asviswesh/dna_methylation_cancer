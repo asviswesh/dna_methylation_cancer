{
 "cells": [
  {
   "cell_type": "code",
   "execution_count": 1,
   "metadata": {
    "collapsed": true
   },
   "outputs": [],
   "source": [
    "#########################\n",
    "# Program to preprocess all raw files for a cancer type\n",
    "#########################\n",
    "import pandas as pd\n",
    "import os\n",
    "import glob # Use glob to read files with wildcards\n",
    "\n",
    "# Location for LUAD files\n",
    "#For all files use this path\n",
    "path = \"/Users/annika/annika/high-school/cs/tgca-downloads/STAD/*/*n450*.*txt\"\n",
    "\n",
    "# Get the list of files\n",
    "dirList = glob.glob(path)\n",
    "# Initialize a list\n",
    "dflist = []\n",
    "for d in dirList:\n",
    "    # Read the next file\n",
    "    df3 = pd.read_csv(d, sep = \"\\t\")\n",
    "    # Sort by the column which has the 'Composite Element REF' so that \n",
    "    # the methalyation sites are sorted\n",
    "    df3.sort_values(by='Composite Element REF', inplace=True)\n",
    "    # Imputation by mean values to fill up missing values\n",
    "    df3['Beta_value'].fillna(df3['Beta_value'].mean(),inplace=True) \n",
    "    # Transpose the rows and columns, so that all beta values are in a row\n",
    "    df3_transposed = df3.T\n",
    "    # Create a new variable called 'header' from the first row of the dataset which are\n",
    "    # the values of 'Composite Element REF' e.g. cg00000029\n",
    "    df3_headers = df3_transposed.iloc[0] \n",
    "    # Replace the dataframe with a new one which only contains the beta values\n",
    "    df3_transposed = df3_transposed[1:2]\n",
    "    # Rename the dataframe's column names with the header variable i.e. \n",
    "    # 'Composite Element REF' e.g. cg00000029\n",
    "    df3_transposed.rename(columns = df3_headers, inplace=True)\n",
    "    # Create a new column with the column name as 'CancerType' and value as 'LUAD'\n",
    "    df3_transposed = df3_transposed.assign(CancerType='STAD')\n",
    "    # concat the dataframes into a list\n",
    "    dflist.append(df3_transposed)\n",
    "# Convert the list to a dataframe    \n",
    "dfFinal = pd.concat(dflist)\n",
    "# Save the dataframe to csv file, do not save the index\n",
    "dfFinal.to_csv(\"../../data/STAD/STAD_betaValuesOnly.csv\", index = False) \n",
    "# Now the raw files can be deleted and only the csv files can be retained."
   ]
  }
 ],
 "metadata": {
  "kernelspec": {
   "display_name": "Python 3",
   "language": "python",
   "name": "python3"
  },
  "language_info": {
   "codemirror_mode": {
    "name": "ipython",
    "version": 3
   },
   "file_extension": ".py",
   "mimetype": "text/x-python",
   "name": "python",
   "nbconvert_exporter": "python",
   "pygments_lexer": "ipython3",
   "version": "3.7.0"
  }
 },
 "nbformat": 4,
 "nbformat_minor": 2
}
